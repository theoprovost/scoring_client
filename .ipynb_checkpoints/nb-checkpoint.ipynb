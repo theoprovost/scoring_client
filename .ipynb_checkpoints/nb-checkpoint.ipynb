{
 "cells": [
  {
   "cell_type": "markdown",
   "id": "ff775388-9d8f-426c-8a44-23f6da365965",
   "metadata": {},
   "source": [
    "# Scoring client project\n",
    "\n",
    "> Ref. Simplonline : https://simplonline.co/briefs/a1e3b434-ff7f-477c-9354-e052fd1a85f7"
   ]
  },
  {
   "cell_type": "code",
   "execution_count": 1,
   "id": "fc1f673d-aa71-48db-a5a6-59833825a44f",
   "metadata": {},
   "outputs": [],
   "source": [
    "from IPython.display import display\n",
    "\n",
    "import os\n",
    "import pandas as pd"
   ]
  },
  {
   "cell_type": "code",
   "execution_count": 4,
   "id": "ddc7e26a-1f58-4c96-aeb2-12fc4fc2b2d6",
   "metadata": {},
   "outputs": [
    {
     "name": "stdout",
     "output_type": "stream",
     "text": [
      "Data importation :\n",
      "\n",
      "-------------------- \n",
      "From : application_test.csv\n",
      "File loaded -> df_application_test\n",
      "-------------------- \n",
      "From : HomeCredit_columns_description.csv\n",
      "This file is ignored\n",
      "-------------------- \n",
      "From : POS_CASH_balance.csv\n",
      "File loaded -> df_POS_CASH_balance\n",
      "-------------------- \n",
      "From : credit_card_balance.csv\n",
      "File loaded -> df_credit_card_balance\n",
      "-------------------- \n",
      "From : installments_payments.csv\n",
      "File loaded -> df_installments_payments\n",
      "-------------------- \n",
      "From : application_train.csv\n",
      "File loaded -> df_application_train\n",
      "-------------------- \n",
      "From : bureau.csv\n",
      "File loaded -> df_bureau\n",
      "-------------------- \n",
      "From : previous_application.csv\n",
      "File loaded -> df_previous_application\n",
      "-------------------- \n",
      "From : bureau_balance.csv\n",
      "File loaded -> df_bureau_balance\n",
      "-------------------- \n",
      "From : sample_submission.csv\n",
      "File loaded -> df_sample_submission\n",
      "\n",
      "\n",
      "Import data : OK\n"
     ]
    }
   ],
   "source": [
    "# Load provided CSV files and stores them in variables such as :\n",
    "# > df_[<name_of_csv_file_withtout_extension>] = csv data as pd.DataFrame\n",
    "\n",
    "EXCLUDE = ['HomeCredit_columns_description.csv']\n",
    "DISPlAY = False\n",
    "DIR_PATH = './data'\n",
    "DATA_PATH = os.listdir(DIR_PATH)\n",
    "N_DATA_CSV = len([f for f in DATA_PATH if f not in EXCLUDE])\n",
    "\n",
    "list_labels = []\n",
    "print('Data importation :\\n')\n",
    "for file in DATA_PATH:\n",
    "    print('-' * 20, '\\nFrom :', file)\n",
    "    if file not in EXCLUDE:\n",
    "        df = pd.read_csv(os.path.join(DIR_PATH, file), encoding ='ISO-8859-1')\n",
    "        file_str = file.split('.')[0]\n",
    "        var_name = 'df_{}'.format(file_str)\n",
    "        globals()[var_name] = df\n",
    "        describe = df.describe()\n",
    "        list_labels.append(df.columns.to_list())\n",
    "        print('File loaded -> {}'.format(var_name))\n",
    "    else:\n",
    "        print('This file is ignored')\n",
    "    if DISPlAY:\n",
    "        display(df.head(), describe)\n",
    "    \n",
    "if DISPlAY:\n",
    "    print('\\nList of all labels :\\n', ', '.join([j for sub in list_labels for j in sub]))\n",
    "else:\n",
    "    print('\\n\\nImport data : OK')"
   ]
  },
  {
   "cell_type": "code",
   "execution_count": 9,
   "id": "37ec88cf-54bc-461b-b9e1-1a5544aba260",
   "metadata": {},
   "outputs": [
    {
     "name": "stdout",
     "output_type": "stream",
     "text": [
      "Loaded dataframes (9/9) : df_application_test, df_POS_CASH_balance, df_credit_card_balance, df_installments_payments, df_application_train, df_bureau, df_previous_application, df_bureau_balance, df_sample_submission\n"
     ]
    }
   ],
   "source": [
    "# Make sure all CSV files were loaded\n",
    "dfs = {key: globals()[key] for key in globals() if str(key).startswith('df_')}\n",
    "print('Loaded dataframes ({}/{}) :'.format(len(dfs.keys()), N_DATA_CSV), ', '.join(list(dfs.keys())))\n",
    "#df_full = pd.concat(dfs, axis=1).reset_index()"
   ]
  },
  {
   "cell_type": "code",
   "execution_count": 16,
   "id": "560e7688-30c1-4242-8cee-37abd07efb5a",
   "metadata": {},
   "outputs": [
    {
     "ename": "TypeError",
     "evalue": "'dict_keys' object is not subscriptable",
     "output_type": "error",
     "traceback": [
      "\u001b[0;31m---------------------------------------------------------------------------\u001b[0m",
      "\u001b[0;31mTypeError\u001b[0m                                 Traceback (most recent call last)",
      "Input \u001b[0;32mIn [16]\u001b[0m, in \u001b[0;36m<cell line: 2>\u001b[0;34m()\u001b[0m\n\u001b[1;32m      1\u001b[0m \u001b[38;5;66;03m#df_full = pd.concat(list(dfs.keys()), axis=1).reset_index()\u001b[39;00m\n\u001b[0;32m----> 2\u001b[0m [df \u001b[38;5;28;01mfor\u001b[39;00m df \u001b[38;5;129;01min\u001b[39;00m \u001b[38;5;28mglobals\u001b[39m()[\u001b[43mdfs\u001b[49m\u001b[38;5;241;43m.\u001b[39;49m\u001b[43mkeys\u001b[49m\u001b[43m(\u001b[49m\u001b[43m)\u001b[49m\u001b[43m[\u001b[49m\u001b[38;5;241;43m0\u001b[39;49m\u001b[43m]\u001b[49m]]\n",
      "\u001b[0;31mTypeError\u001b[0m: 'dict_keys' object is not subscriptable"
     ]
    }
   ],
   "source": [
    "#df_full = pd.concat(list(dfs.keys()), axis=1).reset_index()\n",
    "[df for i, df in enumerate(globals()[dfs.keys()[i]])]"
   ]
  },
  {
   "cell_type": "code",
   "execution_count": null,
   "id": "5cb15259-6665-4c35-982c-37e48ba4c89c",
   "metadata": {},
   "outputs": [],
   "source": []
  }
 ],
 "metadata": {
  "kernelspec": {
   "display_name": "Python 3 (ipykernel)",
   "language": "python",
   "name": "python3"
  },
  "language_info": {
   "codemirror_mode": {
    "name": "ipython",
    "version": 3
   },
   "file_extension": ".py",
   "mimetype": "text/x-python",
   "name": "python",
   "nbconvert_exporter": "python",
   "pygments_lexer": "ipython3",
   "version": "3.9.12"
  },
  "widgets": {
   "application/vnd.jupyter.widget-state+json": {
    "state": {},
    "version_major": 2,
    "version_minor": 0
   }
  }
 },
 "nbformat": 4,
 "nbformat_minor": 5
}
