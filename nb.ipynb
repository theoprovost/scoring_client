{
 "cells": [
  {
   "cell_type": "markdown",
   "id": "ff775388-9d8f-426c-8a44-23f6da365965",
   "metadata": {},
   "source": [
    "# Scoring client project\n",
    "\n",
    "> Ref. Simplonline : https://simplonline.co/briefs/a1e3b434-ff7f-477c-9354-e052fd1a85f7"
   ]
  },
  {
   "cell_type": "code",
   "execution_count": 2,
   "id": "fc1f673d-aa71-48db-a5a6-59833825a44f",
   "metadata": {},
   "outputs": [],
   "source": [
    "from IPython.display import display\n",
    "\n",
    "import os\n",
    "import pandas as pd"
   ]
  },
  {
   "cell_type": "code",
   "execution_count": 3,
   "id": "ddc7e26a-1f58-4c96-aeb2-12fc4fc2b2d6",
   "metadata": {},
   "outputs": [
    {
     "name": "stdout",
     "output_type": "stream",
     "text": [
      "Data importation :\n",
      "\n",
      "-------------------- \n",
      "From : application_test.csv\n",
      "File loaded -> df_application_test\n",
      "-------------------- \n",
      "From : HomeCredit_columns_description.csv\n",
      "This file is ignored\n",
      "-------------------- \n",
      "From : POS_CASH_balance.csv\n",
      "File loaded -> df_POS_CASH_balance\n",
      "-------------------- \n",
      "From : credit_card_balance.csv\n",
      "File loaded -> df_credit_card_balance\n",
      "-------------------- \n",
      "From : installments_payments.csv\n",
      "File loaded -> df_installments_payments\n",
      "-------------------- \n",
      "From : application_train.csv\n",
      "File loaded -> df_application_train\n",
      "-------------------- \n",
      "From : bureau.csv\n",
      "File loaded -> df_bureau\n",
      "-------------------- \n",
      "From : previous_application.csv\n",
      "File loaded -> df_previous_application\n",
      "-------------------- \n",
      "From : bureau_balance.csv\n",
      "File loaded -> df_bureau_balance\n",
      "-------------------- \n",
      "From : sample_submission.csv\n",
      "File loaded -> df_sample_submission\n",
      "\n",
      "\n",
      "Import data : OK\n",
      "CPU times: user 1min 9s, sys: 15.9 s, total: 1min 25s\n",
      "Wall time: 1min 47s\n"
     ]
    }
   ],
   "source": [
    "%%time\n",
    "\n",
    "# Load provided CSV files and stores them in variables such as :\n",
    "# > df_[<name_of_csv_file_withtout_extension>] = csv data as pd.DataFrame\n",
    "\n",
    "DISPlAY = False\n",
    "\n",
    "EXCLUDE = ['HomeCredit_columns_description.csv']\n",
    "ENCODING = 'ISO-8859-1'\n",
    "DIR_PATH = './data'\n",
    "DATA_PATH = os.listdir(DIR_PATH)\n",
    "N_DATA_CSV = len([f for f in DATA_PATH if f not in EXCLUDE])\n",
    "\n",
    "list_labels = []\n",
    "print('Data importation :\\n')\n",
    "for file in DATA_PATH:\n",
    "    print('-' * 20, '\\nFrom :', file)\n",
    "    if file not in EXCLUDE:\n",
    "        df = pd.read_csv(os.path.join(DIR_PATH, file), encoding = ENCODING, memory_map = True)\n",
    "        file_str = file.split('.')[0]\n",
    "        var_name = 'df_{}'.format(file_str)\n",
    "        globals()[var_name] = df\n",
    "        describe = df.describe()\n",
    "        list_labels.append(df.columns.to_list())\n",
    "        print('File loaded -> {}'.format(var_name))\n",
    "    else:\n",
    "        print('This file is ignored')\n",
    "    if DISPlAY:\n",
    "        display(df.head(), describe)\n",
    "    \n",
    "if DISPlAY:\n",
    "    print('\\nList of all labels :\\n', ', '.join([j for sub in list_labels for j in sub]))\n",
    "else:\n",
    "    print('\\n\\nImport data : OK')"
   ]
  },
  {
   "cell_type": "code",
   "execution_count": 80,
   "id": "37ec88cf-54bc-461b-b9e1-1a5544aba260",
   "metadata": {},
   "outputs": [
    {
     "name": "stdout",
     "output_type": "stream",
     "text": [
      "Loaded dataframes (8/9) : df_POS_CASH_balance, df_credit_card_balance, df_installments_payments, df_application_train, df_bureau, df_previous_application, df_bureau_balance, df_sample_submission\n",
      "The entiere dataset contains : 487672047 data points\n"
     ]
    }
   ],
   "source": [
    "# Make sure all CSV files were loaded\n",
    "EXCLUDE_TEST = 'df_application_test'\n",
    "dfs = {key: globals()[key] for key in globals() if str(key).startswith('df_') and key not in EXCLUDE_TEST}\n",
    "print('Loaded dataframes ({}/{}) :'.format(len(dfs.keys()), N_DATA_CSV), ', '.join(list(dfs.keys())))\n",
    "\n",
    "dfs_raw = [globals()[df] for df in list(dfs.keys())]\n",
    "data_points = []\n",
    "for df in dfs_raw:\n",
    "    data_points.append(len(df.columns) * len(df.index))\n",
    "print('The entiere dataset contains :', sum(data_points), 'data points')"
   ]
  },
  {
   "cell_type": "markdown",
   "id": "f409291e-a645-4ce7-a5d7-e4e1747dafe7",
   "metadata": {},
   "source": [
    "> There is a total of 10 CSV files. 9 of those are proper data, one is a description file (data dictionnary like). <br>\n",
    "> This represents around 2.6GB of disk storage."
   ]
  },
  {
   "cell_type": "code",
   "execution_count": 20,
   "id": "560e7688-30c1-4242-8cee-37abd07efb5a",
   "metadata": {},
   "outputs": [],
   "source": [
    "#df_full = pd.concat([globals()[df] for df in list(dfs.keys())], axis=1).reset_index()\n",
    "#df_full = pd.concat(dfs, axis=1).reset_index()"
   ]
  },
  {
   "cell_type": "code",
   "execution_count": null,
   "id": "5cb15259-6665-4c35-982c-37e48ba4c89c",
   "metadata": {},
   "outputs": [],
   "source": [
    "LABEL_ID = 'SK_ID_PREV'\n",
    "\n",
    "for i, df in enumerate(dfs):\n",
    "    print(i, LABEL_ID in df.columns)"
   ]
  },
  {
   "cell_type": "code",
   "execution_count": 54,
   "id": "5d887e40-bba9-4c5b-a4c4-6ea2cc832d0b",
   "metadata": {},
   "outputs": [],
   "source": [
    "info = pd.read_csv('./data/HomeCredit_columns_description.csv', encoding=ENCODING).set_index('Unnamed: 0')"
   ]
  },
  {
   "cell_type": "code",
   "execution_count": 99,
   "id": "054d83c6-663f-4b89-9b5d-0943ba71a0eb",
   "metadata": {},
   "outputs": [
    {
     "name": "stdout",
     "output_type": "stream",
     "text": [
      "df_POS_CASH_balance ['SK_ID_CURR'] \n",
      "\n",
      "df_credit_card_balance ['SK_ID_CURR'] \n",
      "\n",
      "df_installments_payments ['SK_ID_CURR'] \n",
      "\n",
      "df_application_train [] \n",
      "\n",
      "df_bureau ['SK_ID_CURR', 'AMT_ANNUITY'] \n",
      "\n",
      "df_previous_application ['SK_ID_CURR', 'NAME_CONTRACT_TYPE', 'AMT_ANNUITY', 'AMT_CREDIT', 'AMT_GOODS_PRICE', 'WEEKDAY_APPR_PROCESS_START', 'HOUR_APPR_PROCESS_START', 'NAME_TYPE_SUITE'] \n",
      "\n",
      "df_bureau_balance [] \n",
      "\n",
      "df_sample_submission ['SK_ID_CURR', 'TARGET'] \n",
      "\n"
     ]
    }
   ],
   "source": [
    "for x in dfs:\n",
    "    print(x, [y for y in globals()[x].columns if y in df_application_train.columns and x != 'df_application_train'], '\\n')"
   ]
  },
  {
   "cell_type": "markdown",
   "id": "f4f509da-1ac1-46cd-86e9-bb5f287dcacb",
   "metadata": {},
   "source": [
    "----"
   ]
  },
  {
   "cell_type": "code",
   "execution_count": null,
   "id": "88f41a35-1da9-455c-8e3d-aa30b87dea28",
   "metadata": {},
   "outputs": [],
   "source": []
  },
  {
   "cell_type": "code",
   "execution_count": 132,
   "id": "2f01e3b4-1ca6-4c92-8e57-569a39b15c10",
   "metadata": {},
   "outputs": [],
   "source": [
    "from tpot import TPOTRegressor"
   ]
  },
  {
   "cell_type": "code",
   "execution_count": 172,
   "id": "2363c666-5564-4725-a5fc-d22f29e8d461",
   "metadata": {},
   "outputs": [],
   "source": [
    "target_label = 'TARGET'\n",
    "exclude_label = [target_label, 'SK_ID_CURR']\n",
    "\n",
    "# Remove nas\n",
    "df_application_train = df_application_train.dropna()\n",
    "\n",
    "X_train = df_application_train[[x for x in df_application_train.columns if x not in exclude_label]]\n",
    "X_train = pd.get_dummies(X_train)\n",
    "y_train = df_application_train[target_label]\n",
    "\n",
    "X_test = df_application_test\n",
    "X_test = pd.get_dummies(X_test)\n",
    "y_test = df_sample_submission[target_label]"
   ]
  },
  {
   "cell_type": "code",
   "execution_count": null,
   "id": "b0bfe843-4270-4bb7-a451-6c91c287a669",
   "metadata": {},
   "outputs": [],
   "source": [
    "reg = TPOTRegressor(verbosity=2, config_dict='TPOT light')\n",
    "reg.fit(X_train, y_train)"
   ]
  },
  {
   "cell_type": "code",
   "execution_count": null,
   "id": "c9d90f45-bc9f-4bbc-a367-0a788e005d2f",
   "metadata": {},
   "outputs": [],
   "source": []
  },
  {
   "cell_type": "code",
   "execution_count": null,
   "id": "6ffb3f9d-862d-4cc1-b95b-3348ebe6aa0b",
   "metadata": {},
   "outputs": [],
   "source": []
  },
  {
   "cell_type": "code",
   "execution_count": null,
   "id": "a033e230-b78f-4175-8cc7-ebddc439d020",
   "metadata": {},
   "outputs": [],
   "source": []
  },
  {
   "cell_type": "code",
   "execution_count": null,
   "id": "4a97ed9a-f51b-4066-8527-a41c7839a98b",
   "metadata": {},
   "outputs": [],
   "source": []
  }
 ],
 "metadata": {
  "kernelspec": {
   "display_name": "Python 3 (ipykernel)",
   "language": "python",
   "name": "python3"
  },
  "language_info": {
   "codemirror_mode": {
    "name": "ipython",
    "version": 3
   },
   "file_extension": ".py",
   "mimetype": "text/x-python",
   "name": "python",
   "nbconvert_exporter": "python",
   "pygments_lexer": "ipython3",
   "version": "3.9.12"
  },
  "widgets": {
   "application/vnd.jupyter.widget-state+json": {
    "state": {},
    "version_major": 2,
    "version_minor": 0
   }
  }
 },
 "nbformat": 4,
 "nbformat_minor": 5
}
